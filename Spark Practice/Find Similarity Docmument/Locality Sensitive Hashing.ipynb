{
 "cells": [
  {
   "cell_type": "code",
   "execution_count": 63,
   "metadata": {
    "colab": {
     "base_uri": "https://localhost:8080/"
    },
    "id": "P9VGd2O3G-xV",
    "outputId": "576530d3-3281-43a2-c275-b09300118a76"
   },
   "outputs": [
    {
     "name": "stdout",
     "output_type": "stream",
     "text": [
      "Requirement already satisfied: pyspark in /usr/local/lib/python3.7/dist-packages (3.1.1)\n",
      "Requirement already satisfied: py4j==0.10.9 in /usr/local/lib/python3.7/dist-packages (from pyspark) (0.10.9)\n"
     ]
    }
   ],
   "source": [
    "!pip install pyspark"
   ]
  },
  {
   "cell_type": "code",
   "execution_count": 64,
   "metadata": {
    "id": "ZjWr42tcGpT4"
   },
   "outputs": [],
   "source": [
    "def formatTime(t):\n",
    "    if t < 60:\n",
    "        return \"{:.2f} sec\".format(t)\n",
    "    elif t < (60*60):\n",
    "        return \"{:.2f} min\".format(t/60 )\n",
    "    elif t < (60*60*24):\n",
    "        return  \"{:.2f} hour\".format((t/60)/24)"
   ]
  },
  {
   "cell_type": "code",
   "execution_count": 65,
   "metadata": {
    "id": "dMe2WQMqG_wH"
   },
   "outputs": [],
   "source": [
    "import sys\n",
    "import random\n",
    "import time\n",
    "import binascii\n",
    "import math\n",
    "from pyspark import SparkConf, SparkContext\n",
    "import collections\n",
    "import numpy as np\n",
    "from itertools import islice, count\n",
    "from sympy import isprime, nextprime"
   ]
  },
  {
   "cell_type": "markdown",
   "metadata": {
    "id": "azavPtygJqTh"
   },
   "source": [
    "# **Running on Spark enviroment**"
   ]
  },
  {
   "cell_type": "markdown",
   "metadata": {
    "id": "G2URi4WkKCEm"
   },
   "source": [
    "## **Preparation**"
   ]
  },
  {
   "cell_type": "markdown",
   "metadata": {
    "id": "0l7TZP0kJ0nf"
   },
   "source": [
    "### **Config Spark enviroment**"
   ]
  },
  {
   "cell_type": "code",
   "execution_count": 66,
   "metadata": {
    "id": "-jFMri9_HPi5"
   },
   "outputs": [],
   "source": [
    "# Config Spark context\n",
    "conf = SparkConf().setMaster(\"local\").setAppName(\"Local Sensitive Hashing\")\n",
    "sc = SparkContext.getOrCreate(conf=conf)"
   ]
  },
  {
   "cell_type": "markdown",
   "metadata": {
    "id": "BJyClkHXJ7Xl"
   },
   "source": [
    "### **Read data**"
   ]
  },
  {
   "cell_type": "code",
   "execution_count": 67,
   "metadata": {
    "id": "2YiCluG3HAvz"
   },
   "outputs": [],
   "source": [
    "begin = time.time()\n",
    "#read data\n",
    "rdd = sc.textFile(\"sample_data/data.txt\")\n",
    "doc = rdd.collect()\n",
    "doc_input = \"\"\"Đó thực sự là một nghĩa cử cao đẹp của những thiên thần blouse trắng Bệnh viện (BV) Đà Nẵng... Bởi hơn ai hết, là nhân viên y tế, họ hiểu và cảm nhận rất rõ việc ghép tạng là phương pháp điều trị cuối cùng, mang lại cơ hội sống cho những bệnh nhân suy tạng giai đoạn cuối. Họ đã âm thầm kết nối nhau lại thành một cộng đồng những tình nguyện viên hiến mô, tạng.Bác sĩ Nguyễn Văn Đồng (32 tuổi, Khoa Hồi sức tích cực chống độc) cùng với 3 bác sĩ khác: Hiếu, An, Hùng là những thành viên đăng ký đơn ngay trong ngày đầu tiên hoạt động viết đơn tự nguyện. Bác sĩ Đồng cho biết: “Chỉ cần có tạng hiến để ghép thì sự sống của nhiều người không phải dừng lại khi tuổi đời còn quá trẻ. Điều đó thực sự thôi thúc chúng tôi tạo nên một cộng đồng sẵn sàng hiến mô, tạng. Từ việc hiến tặng này, sự sống sẽ được tiếp nối một cách ý nghĩa ở một cơ thể khác”, bác sĩ Đồng tâm sự.Khi mình đặt bút viết đơn tự nguyện hiến tặng bộ phận cơ thể, hơn ai hết mình hiểu rõ sự cần thiết và ý nghĩa của hoạt động nàyBác sĩ Lê Tuấn Anh\"\"\" \n",
    "doc.insert(0,doc_input)\n",
    "rdd = sc.parallelize(doc)"
   ]
  },
  {
   "cell_type": "code",
   "execution_count": 68,
   "metadata": {
    "colab": {
     "base_uri": "https://localhost:8080/"
    },
    "id": "U_BqI-qRHKM9",
    "outputId": "c5830e35-e3a2-4d5d-c21c-270c7e8cdbb4"
   },
   "outputs": [
    {
     "name": "stdout",
     "output_type": "stream",
     "text": [
      "Length of doc:  3527\n"
     ]
    }
   ],
   "source": [
    "ngram = 5\n",
    "doc_rdd = rdd.map(lambda x: x.lower().replace('.','').replace(',','')).filter(lambda x: x!=\" \").filter(lambda x: x!='\\n')\n",
    "doc = doc_rdd.collect()\n",
    "print(\"Length of doc: \", len(doc))"
   ]
  },
  {
   "cell_type": "markdown",
   "metadata": {
    "id": "pDIEHD2M120J"
   },
   "source": [
    "## **Shingling Document**"
   ]
  },
  {
   "cell_type": "code",
   "execution_count": 69,
   "metadata": {
    "id": "xylPXLByGPTf"
   },
   "outputs": [],
   "source": [
    "shinglingBeginTime = time.time()"
   ]
  },
  {
   "cell_type": "code",
   "execution_count": 70,
   "metadata": {
    "id": "h0ZQMbWOb_D6"
   },
   "outputs": [],
   "source": [
    "#Shingling\n",
    "def shingling(words):\n",
    "    shingle = set()\n",
    "    for j in range(len(words)-(ngram-1)):\n",
    "        # Encode shingle to crc32\n",
    "        crc = binascii.crc32(words[j:(ngram+j)].encode())\n",
    "        shingle.add(crc)\n",
    "    return shingle"
   ]
  },
  {
   "cell_type": "code",
   "execution_count": 71,
   "metadata": {
    "id": "ILcfjaeZHXv6"
   },
   "outputs": [],
   "source": [
    "# Shingle doc \n",
    "shingleDocSetRDD = doc_rdd.map(lambda x : shingling(x))\n",
    "# get number of shingle\n",
    "sumOfShingle = sum(shingleDocSetRDD.map(lambda x: len(x)).collect())\n",
    "\n",
    "shingleDocSet = shingleDocSetRDD.collect()"
   ]
  },
  {
   "cell_type": "code",
   "execution_count": 72,
   "metadata": {
    "colab": {
     "base_uri": "https://localhost:8080/"
    },
    "id": "7tTyfMNTKRET",
    "outputId": "7e4d67f9-018e-46e5-bbd7-c027b6c91b33"
   },
   "outputs": [
    {
     "name": "stdout",
     "output_type": "stream",
     "text": [
      "Sum of shingle is  4718394\n"
     ]
    }
   ],
   "source": [
    "print(\"Sum of shingle is \", sumOfShingle)"
   ]
  },
  {
   "cell_type": "code",
   "execution_count": 73,
   "metadata": {
    "id": "VsI-t0eQGUFF"
   },
   "outputs": [],
   "source": [
    "shinglingEndTime = time.time()"
   ]
  },
  {
   "cell_type": "code",
   "execution_count": 74,
   "metadata": {
    "colab": {
     "base_uri": "https://localhost:8080/"
    },
    "id": "hWfPT6giGnB6",
    "outputId": "bae74fb2-8164-4cfa-ed70-8c94e4a08e69"
   },
   "outputs": [
    {
     "name": "stdout",
     "output_type": "stream",
     "text": [
      "Shingling end in 11.26 sec\n"
     ]
    }
   ],
   "source": [
    "print(\"Shingling end in {}\".format(formatTime(shinglingEndTime - shinglingBeginTime)))"
   ]
  },
  {
   "cell_type": "markdown",
   "metadata": {
    "id": "mZEz0Ok-BhX5"
   },
   "source": [
    "## **MinHashing**"
   ]
  },
  {
   "cell_type": "code",
   "execution_count": 75,
   "metadata": {
    "id": "sIvOhoFlIOvv"
   },
   "outputs": [],
   "source": [
    "hashingBeginTime = time.time()"
   ]
  },
  {
   "cell_type": "code",
   "execution_count": 76,
   "metadata": {
    "id": "MKDp7xTk2Gk-"
   },
   "outputs": [],
   "source": [
    "k = 100"
   ]
  },
  {
   "cell_type": "markdown",
   "metadata": {
    "id": "zZnDsKmoKwpA"
   },
   "source": [
    "Hashing referrence from Implement trick from stanford slide page 30\n"
   ]
  },
  {
   "cell_type": "code",
   "execution_count": 77,
   "metadata": {
    "id": "zDKLoz36JVmT"
   },
   "outputs": [],
   "source": [
    "# Get prime number for MinHashing\n",
    "\n",
    "nextPrime = nextprime(sumOfShingle)\n",
    "\n",
    "# Generate k random integer to hash shingle\n",
    "def randomHashFunc(k):\n",
    "    return random.sample(range(sumOfShingle), k)\n",
    "\n",
    "# Initialize A and B with k random integer\n",
    "randomAHashFunc = randomHashFunc(k)\n",
    "randomBHashFunc = randomHashFunc(k)"
   ]
  },
  {
   "cell_type": "code",
   "execution_count": 78,
   "metadata": {
    "id": "BuFfP6HJJWd6"
   },
   "outputs": [],
   "source": [
    "\n",
    "# MinHash shingle\n",
    "def minHashShingle(shingleDoc, a, b):\n",
    "    minHash = np.Inf\n",
    "    for x in shingleDoc:\n",
    "        # hashCode implementation based on Standford slide \n",
    "        hashCode = ((a * x + b) % nextPrime) % sumOfShingle\n",
    "        # if hashCode < minHash then hashCode is minHash of current shingle\n",
    "        minHash = hashCode if hashCode < minHash else minHash\n",
    "    return minHash\n",
    "\n",
    "# Make signature\n",
    "def signatureGenerator(shingleDoc):\n",
    "    signature = []\n",
    "  \n",
    "  # Make k signature length\n",
    "    for i in range(0, k):\n",
    "        minHash = minHashShingle(shingleDoc, randomAHashFunc[i], randomBHashFunc[i])\n",
    "        signature.append(minHash)\n",
    "    return signature"
   ]
  },
  {
   "cell_type": "code",
   "execution_count": 79,
   "metadata": {
    "id": "ftcnZGN2L9nT"
   },
   "outputs": [],
   "source": [
    "signatures = shingleDocSetRDD.map(lambda x: signatureGenerator(x)).collect()\n",
    "numDocs = len(shingleDocSet)"
   ]
  },
  {
   "cell_type": "code",
   "execution_count": 80,
   "metadata": {
    "id": "GJT0Wu-a1FPd"
   },
   "outputs": [],
   "source": [
    "signaturesMatrix = np.array(signatures)"
   ]
  },
  {
   "cell_type": "code",
   "execution_count": 81,
   "metadata": {
    "id": "41qmD3LrITm-"
   },
   "outputs": [],
   "source": [
    "hashingEndTime = time.time()"
   ]
  },
  {
   "cell_type": "code",
   "execution_count": 82,
   "metadata": {
    "colab": {
     "base_uri": "https://localhost:8080/"
    },
    "id": "l3U2JTRgIVZZ",
    "outputId": "790e344d-bf57-41f7-b80f-562d83796ac7"
   },
   "outputs": [
    {
     "name": "stdout",
     "output_type": "stream",
     "text": [
      "MinHashing end in 2.26 min\n"
     ]
    }
   ],
   "source": [
    "print(\"MinHashing end in {}\".format(formatTime(hashingEndTime - hashingBeginTime)))"
   ]
  },
  {
   "cell_type": "markdown",
   "metadata": {
    "id": "WzESDqIEBdU5"
   },
   "source": [
    "## **LSH**"
   ]
  },
  {
   "cell_type": "code",
   "execution_count": 83,
   "metadata": {
    "id": "W7hYJSvMIaz-"
   },
   "outputs": [],
   "source": [
    "LSHBeginTime = time.time()"
   ]
  },
  {
   "cell_type": "code",
   "execution_count": 84,
   "metadata": {
    "id": "TieLG9P-xfUr"
   },
   "outputs": [],
   "source": [
    "b = 20\n",
    "r = 5\n",
    "# s = (1/b)**(1/r)\n",
    "s = 0.8\n",
    "neighborsOfPair = 5\n",
    "bucket = []"
   ]
  },
  {
   "cell_type": "code",
   "execution_count": 85,
   "metadata": {
    "id": "QzzgNLPXyB1M"
   },
   "outputs": [],
   "source": [
    "def jaccardSim(A,B):\n",
    "    return sum(A==B) / len(A)\n",
    "\n",
    "def divideBands(x, signaturesMatrix):\n",
    "    return signaturesMatrix.T[x:x+r]"
   ]
  },
  {
   "cell_type": "code",
   "execution_count": 86,
   "metadata": {
    "id": "bmq5IkDJyTjp"
   },
   "outputs": [],
   "source": [
    "# Devide bands\n",
    "rdd3 = sc.parallelize(list(range(0,k,r)))\n",
    "bands = rdd3.map(lambda x: divideBands(x, signaturesMatrix))"
   ]
  },
  {
   "cell_type": "code",
   "execution_count": 87,
   "metadata": {
    "colab": {
     "base_uri": "https://localhost:8080/"
    },
    "id": "JtGHTsA3CMiZ",
    "outputId": "827ce3a3-5597-478d-fa34-cad1fedc52ce"
   },
   "outputs": [
    {
     "data": {
      "text/plain": [
       "20"
      ]
     },
     "execution_count": 87,
     "metadata": {
      "tags": []
     },
     "output_type": "execute_result"
    }
   ],
   "source": [
    "bands.count()"
   ]
  },
  {
   "cell_type": "code",
   "execution_count": 88,
   "metadata": {
    "id": "ScfCQyBYysU4"
   },
   "outputs": [],
   "source": [
    "# Generate Pair\n",
    "pairs = [(0,i) for i in range(1,len(shingleDocSet))]"
   ]
  },
  {
   "cell_type": "code",
   "execution_count": 89,
   "metadata": {
    "id": "Pg0xLr0dy5Jv"
   },
   "outputs": [],
   "source": [
    "# Insert pair to bukect if sim(pair) reach threshold s\n",
    "def getBuckets(band):\n",
    "    res = []\n",
    "    for pair in pairs:\n",
    "        js = jaccardSim(band.T[pair[0]], band.T[pair[1]])\n",
    "        if js > s:\n",
    "            res.append((pair, 1))\n",
    "    return res"
   ]
  },
  {
   "cell_type": "code",
   "execution_count": 90,
   "metadata": {
    "id": "WwrEaLMMy7KF"
   },
   "outputs": [],
   "source": [
    "buckets = sc.parallelize(bands.map(lambda x: getBuckets(x)).reduce(lambda x,y: x+y))"
   ]
  },
  {
   "cell_type": "code",
   "execution_count": 91,
   "metadata": {
    "id": "KRUV1K83y8Be"
   },
   "outputs": [],
   "source": [
    "findCandidatePairs = buckets.reduceByKey(lambda x,y: x+y)\n",
    "findCandidatePairs.sortBy(lambda x: x[1], False)\n",
    "candidatePairs = findCandidatePairs.collect()"
   ]
  },
  {
   "cell_type": "code",
   "execution_count": 92,
   "metadata": {
    "id": "M-K9lo_hIgVd"
   },
   "outputs": [],
   "source": [
    "LSHEndTime = time.time()"
   ]
  },
  {
   "cell_type": "code",
   "execution_count": 93,
   "metadata": {
    "colab": {
     "base_uri": "https://localhost:8080/"
    },
    "id": "yxvz9cZIIjAm",
    "outputId": "9b719c91-47a2-421a-ad70-d36f7592a943"
   },
   "outputs": [
    {
     "name": "stdout",
     "output_type": "stream",
     "text": [
      "LSH end in 1.79 sec\n"
     ]
    }
   ],
   "source": [
    "print(\"LSH end in {}\".format(formatTime(LSHEndTime - LSHBeginTime)))"
   ]
  },
  {
   "cell_type": "code",
   "execution_count": 94,
   "metadata": {
    "colab": {
     "base_uri": "https://localhost:8080/"
    },
    "id": "3ntWJ9ZyR4Zi",
    "outputId": "2760fc1e-b77c-4ce4-9f7c-143e92cee842"
   },
   "outputs": [
    {
     "name": "stdout",
     "output_type": "stream",
     "text": [
      "candidate pairs:  [((0, 2233), 20)]\n"
     ]
    }
   ],
   "source": [
    "print(\"candidate pairs: \", candidatePairs)"
   ]
  },
  {
   "cell_type": "code",
   "execution_count": 95,
   "metadata": {
    "colab": {
     "base_uri": "https://localhost:8080/",
     "height": 120
    },
    "id": "x1N_LdSaEz7L",
    "outputId": "fd7bcb0a-fdb5-47fe-eff7-f75f130a4cd0"
   },
   "outputs": [
    {
     "data": {
      "application/vnd.google.colaboratory.intrinsic+json": {
       "type": "string"
      },
      "text/plain": [
       "'Đó thực sự là một nghĩa cử cao đẹp của những thiên thần blouse trắng Bệnh viện (BV) Đà Nẵng... Bởi hơn ai hết, là nhân viên y tế, họ hiểu và cảm nhận rất rõ việc ghép tạng là phương pháp điều trị cuối cùng, mang lại cơ hội sống cho những bệnh nhân suy tạng giai đoạn cuối. Họ đã âm thầm kết nối nhau lại thành một cộng đồng những tình nguyện viên hiến mô, tạng.Bác sĩ Nguyễn Văn Đồng (32 tuổi, Khoa Hồi sức tích cực chống độc) cùng với 3 bác sĩ khác: Hiếu, An, Hùng là những thành viên đăng ký đơn ngay trong ngày đầu tiên hoạt động viết đơn tự nguyện. Bác sĩ Đồng cho biết: “Chỉ cần có tạng hiến để ghép thì sự sống của nhiều người không phải dừng lại khi tuổi đời còn quá trẻ. Điều đó thực sự thôi thúc chúng tôi tạo nên một cộng đồng sẵn sàng hiến mô, tạng. Từ việc hiến tặng này, sự sống sẽ được tiếp nối một cách ý nghĩa ở một cơ thể khác”, bác sĩ Đồng tâm sự.Khi mình đặt bút viết đơn tự nguyện hiến tặng bộ phận cơ thể, hơn ai hết mình hiểu rõ sự cần thiết và ý nghĩa của hoạt động nàyBác sĩ Lê Tuấn Anh'"
      ]
     },
     "execution_count": 95,
     "metadata": {
      "tags": []
     },
     "output_type": "execute_result"
    }
   ],
   "source": [
    "doc_input"
   ]
  },
  {
   "cell_type": "code",
   "execution_count": 96,
   "metadata": {
    "colab": {
     "base_uri": "https://localhost:8080/"
    },
    "id": "CIvnWabSMX3K",
    "outputId": "0a1ed899-f49b-40db-bf10-aa7ab3ac6f51"
   },
   "outputs": [
    {
     "name": "stdout",
     "output_type": "stream",
     "text": [
      "doc[0] is similarity to doc[2233]\n",
      "\n",
      "đó thực sự là một nghĩa cử cao đẹp của những thiên thần blouse trắng bệnh viện (bv) đà nẵng bởi hơn ai hết là nhân viên y tế họ hiểu và cảm nhận rất rõ việc ghép tạng là phương pháp điều trị cuối cùng mang lại cơ hội sống cho những bệnh nhân suy tạng giai đoạn cuối họ đã âm thầm kết nối nhau lại thành một cộng đồng những tình nguyện viên hiến mô tạngbác sĩ nguyễn văn đồng (32 tuổi khoa hồi sức tích cực chống độc) cùng với 3 bác sĩ khác: hiếu an hùng là những thành viên đăng ký đơn ngay trong ngày đầu tiên hoạt động viết đơn tự nguyện bác sĩ đồng cho biết: “chỉ cần có tạng hiến để ghép thì sự sống của nhiều người không phải dừng lại khi tuổi đời còn quá trẻ điều đó thực sự thôi thúc chúng tôi tạo nên một cộng đồng sẵn sàng hiến mô tạng từ việc hiến tặng này sự sống sẽ được tiếp nối một cách ý nghĩa ở một cơ thể khác” bác sĩ đồng tâm sựkhi mình đặt bút viết đơn tự nguyện hiến tặng bộ phận cơ thể hơn ai hết mình hiểu rõ sự cần thiết và ý nghĩa của hoạt động nàybác sĩ lê tuấn anh\n"
     ]
    }
   ],
   "source": [
    "for i in candidatePairs:\n",
    "    print(\"doc[0] is similarity to doc[{}]\\n\".format(i[0][1]))\n",
    "    print(doc[i[0][1]])"
   ]
  },
  {
   "cell_type": "code",
   "execution_count": 97,
   "metadata": {
    "id": "Pb4SkAuuBYra"
   },
   "outputs": [],
   "source": [
    "end = time.time()"
   ]
  },
  {
   "cell_type": "code",
   "execution_count": 98,
   "metadata": {
    "colab": {
     "base_uri": "https://localhost:8080/"
    },
    "id": "609B5baCFjRh",
    "outputId": "db2e78e5-9935-44a4-f56b-e9f1ab929df8"
   },
   "outputs": [
    {
     "name": "stdout",
     "output_type": "stream",
     "text": [
      "Time running: 2.51 min sec\n"
     ]
    }
   ],
   "source": [
    "print(\"Time running: {} sec\".format(formatTime(end-begin)))"
   ]
  },
  {
   "cell_type": "markdown",
   "metadata": {
    "id": "JyWChaLUJfuJ"
   },
   "source": [
    "# **Running on normal enviroment**"
   ]
  },
  {
   "cell_type": "code",
   "execution_count": 99,
   "metadata": {
    "id": "chFhZIE7NR68"
   },
   "outputs": [],
   "source": [
    "from functools import reduce"
   ]
  },
  {
   "cell_type": "code",
   "execution_count": 100,
   "metadata": {
    "id": "5dGsCpUqNUcV"
   },
   "outputs": [],
   "source": [
    "nor_begin = time.time()"
   ]
  },
  {
   "cell_type": "markdown",
   "metadata": {
    "id": "x_tkWbdDVTQW"
   },
   "source": [
    "## **Shingling**"
   ]
  },
  {
   "cell_type": "code",
   "execution_count": 101,
   "metadata": {
    "id": "IAKyWnjgRjF-"
   },
   "outputs": [],
   "source": [
    "nor_shinglingBeginTime = time.time()"
   ]
  },
  {
   "cell_type": "code",
   "execution_count": 102,
   "metadata": {
    "id": "1yJL73SdNXk2"
   },
   "outputs": [],
   "source": [
    "nor_shingleDocSet = []\n",
    "for d in doc:\n",
    "    nor_shingleDocSet.append(shingling(d))"
   ]
  },
  {
   "cell_type": "code",
   "execution_count": 103,
   "metadata": {
    "colab": {
     "base_uri": "https://localhost:8080/"
    },
    "id": "GekZ8yMUP01B",
    "outputId": "9c3d3c36-dcfe-4c82-9180-5815cdf8b7e7"
   },
   "outputs": [
    {
     "data": {
      "text/plain": [
       "3527"
      ]
     },
     "execution_count": 103,
     "metadata": {
      "tags": []
     },
     "output_type": "execute_result"
    }
   ],
   "source": [
    "len(nor_shingleDocSet)"
   ]
  },
  {
   "cell_type": "code",
   "execution_count": 104,
   "metadata": {
    "colab": {
     "base_uri": "https://localhost:8080/"
    },
    "id": "giIS9VX2PXHT",
    "outputId": "70c7963d-8b99-471f-b0ea-e2c0d34ce0c8"
   },
   "outputs": [
    {
     "name": "stdout",
     "output_type": "stream",
     "text": [
      "Sum of shingle is  4718394\n"
     ]
    }
   ],
   "source": [
    "nor_sumOfShingle = sum([len(x) for x in nor_shingleDocSet])\n",
    "print(\"Sum of shingle is \", nor_sumOfShingle)"
   ]
  },
  {
   "cell_type": "code",
   "execution_count": 105,
   "metadata": {
    "id": "PGdS2ySOQT8s"
   },
   "outputs": [],
   "source": [
    "nor_shinglingEndTime = time.time()"
   ]
  },
  {
   "cell_type": "code",
   "execution_count": 106,
   "metadata": {
    "colab": {
     "base_uri": "https://localhost:8080/"
    },
    "id": "66F7_gVoQUtk",
    "outputId": "efdb6195-e66d-4bce-e03e-8834d032c47d"
   },
   "outputs": [
    {
     "name": "stdout",
     "output_type": "stream",
     "text": [
      "Shingling end in 5.25 sec\n"
     ]
    }
   ],
   "source": [
    "print(\"Shingling end in {}\".format(formatTime(nor_shinglingEndTime - nor_shinglingBeginTime)))"
   ]
  },
  {
   "cell_type": "markdown",
   "metadata": {
    "id": "Bp247oiLTys_"
   },
   "source": [
    "## **MinHashing**"
   ]
  },
  {
   "cell_type": "code",
   "execution_count": 107,
   "metadata": {
    "id": "3P6xtrIMSPy-"
   },
   "outputs": [],
   "source": [
    "nor_hashingBeginTime = time.time()"
   ]
  },
  {
   "cell_type": "code",
   "execution_count": 108,
   "metadata": {
    "id": "KyqrBuQnQYPM"
   },
   "outputs": [],
   "source": [
    "nextPrime = nextprime(sumOfShingle)\n",
    "\n",
    "randomAHashFunc = randomHashFunc(k)\n",
    "randomBHashFunc = randomHashFunc(k)"
   ]
  },
  {
   "cell_type": "code",
   "execution_count": 109,
   "metadata": {
    "id": "7S5BzlBDSjrd"
   },
   "outputs": [],
   "source": [
    "nor_signatures = [signatureGenerator(x) for x in nor_shingleDocSet]\n",
    "numDocs = len(nor_shingleDocSet)"
   ]
  },
  {
   "cell_type": "code",
   "execution_count": 110,
   "metadata": {
    "id": "yRv9Lpr1TkVT"
   },
   "outputs": [],
   "source": [
    "nor_signaturesMatrix = np.array(nor_signatures)"
   ]
  },
  {
   "cell_type": "code",
   "execution_count": 111,
   "metadata": {
    "id": "lpw4hN2jTwiM"
   },
   "outputs": [],
   "source": [
    "nor_hashingEndTime = time.time()"
   ]
  },
  {
   "cell_type": "code",
   "execution_count": 112,
   "metadata": {
    "colab": {
     "base_uri": "https://localhost:8080/"
    },
    "id": "xOSZ0pBuT4zD",
    "outputId": "54dbb8e2-5b6b-43ba-ad2e-070ecc018d05"
   },
   "outputs": [
    {
     "name": "stdout",
     "output_type": "stream",
     "text": [
      "MinHashing end in 2.42 min\n"
     ]
    }
   ],
   "source": [
    "print(\"MinHashing end in {}\".format(formatTime(nor_hashingEndTime - nor_hashingBeginTime)))"
   ]
  },
  {
   "cell_type": "markdown",
   "metadata": {
    "id": "IoRfQEVaT5gR"
   },
   "source": [
    "## **LSH**"
   ]
  },
  {
   "cell_type": "code",
   "execution_count": 113,
   "metadata": {
    "id": "INrermKET7AY"
   },
   "outputs": [],
   "source": [
    "nor_LSHBeginTime = time.time()"
   ]
  },
  {
   "cell_type": "code",
   "execution_count": 114,
   "metadata": {
    "id": "V9hNeVpXUD4o"
   },
   "outputs": [],
   "source": [
    "# Devide bands\n",
    "counter = list(range(0,k,r))\n",
    "nor_bands = [divideBands(x, nor_signaturesMatrix) for x in counter]"
   ]
  },
  {
   "cell_type": "code",
   "execution_count": 115,
   "metadata": {
    "id": "KdfNPeWFUjg-"
   },
   "outputs": [],
   "source": [
    "# Generate Pair\n",
    "pairs = [(0,i) for i in range(1,len(nor_shingleDocSet))]"
   ]
  },
  {
   "cell_type": "code",
   "execution_count": 116,
   "metadata": {
    "id": "a_38Wv0bUw6Q"
   },
   "outputs": [],
   "source": [
    "buckets = [getBuckets(x) for x in nor_bands]\n",
    "buckets = reduce(lambda x,y: x+y, buckets)\n",
    "buckets = reduce(lambda x,y : (x[0],x[1]+y[1]) if x[0]==y[0] else x+y, buckets)"
   ]
  },
  {
   "cell_type": "code",
   "execution_count": 117,
   "metadata": {
    "id": "xERLi7YAWaM2"
   },
   "outputs": [],
   "source": [
    "nor_LSHEndTime = time.time()"
   ]
  },
  {
   "cell_type": "code",
   "execution_count": 118,
   "metadata": {
    "colab": {
     "base_uri": "https://localhost:8080/"
    },
    "id": "QjCea-bqIE1x",
    "outputId": "ebcb6684-88b3-483d-a6a1-10ef821a232e"
   },
   "outputs": [
    {
     "name": "stdout",
     "output_type": "stream",
     "text": [
      "LSH end in 1.22 sec\n"
     ]
    }
   ],
   "source": [
    "print(\"LSH end in {}\".format(formatTime(nor_LSHEndTime - nor_LSHBeginTime)))"
   ]
  },
  {
   "cell_type": "code",
   "execution_count": 119,
   "metadata": {
    "colab": {
     "base_uri": "https://localhost:8080/"
    },
    "id": "2tO-WwAoIJUT",
    "outputId": "47a294fb-fa15-45b1-b520-b8376f2c0a11"
   },
   "outputs": [
    {
     "name": "stdout",
     "output_type": "stream",
     "text": [
      "doc[0] is similarity to doc[2233]\n",
      "\n",
      "đó thực sự là một nghĩa cử cao đẹp của những thiên thần blouse trắng bệnh viện (bv) đà nẵng bởi hơn ai hết là nhân viên y tế họ hiểu và cảm nhận rất rõ việc ghép tạng là phương pháp điều trị cuối cùng mang lại cơ hội sống cho những bệnh nhân suy tạng giai đoạn cuối họ đã âm thầm kết nối nhau lại thành một cộng đồng những tình nguyện viên hiến mô tạngbác sĩ nguyễn văn đồng (32 tuổi khoa hồi sức tích cực chống độc) cùng với 3 bác sĩ khác: hiếu an hùng là những thành viên đăng ký đơn ngay trong ngày đầu tiên hoạt động viết đơn tự nguyện bác sĩ đồng cho biết: “chỉ cần có tạng hiến để ghép thì sự sống của nhiều người không phải dừng lại khi tuổi đời còn quá trẻ điều đó thực sự thôi thúc chúng tôi tạo nên một cộng đồng sẵn sàng hiến mô tạng từ việc hiến tặng này sự sống sẽ được tiếp nối một cách ý nghĩa ở một cơ thể khác” bác sĩ đồng tâm sựkhi mình đặt bút viết đơn tự nguyện hiến tặng bộ phận cơ thể hơn ai hết mình hiểu rõ sự cần thiết và ý nghĩa của hoạt động nàybác sĩ lê tuấn anh\n"
     ]
    }
   ],
   "source": [
    "for i in candidatePairs:\n",
    "    print(\"doc[0] is similarity to doc[{}]\\n\".format(i[0][1]))\n",
    "    print(doc[i[0][1]])"
   ]
  },
  {
   "cell_type": "code",
   "execution_count": 120,
   "metadata": {
    "id": "0-PnbScyQb5J"
   },
   "outputs": [],
   "source": [
    "nor_end = time.time()"
   ]
  },
  {
   "cell_type": "code",
   "execution_count": 121,
   "metadata": {
    "colab": {
     "base_uri": "https://localhost:8080/"
    },
    "id": "C6T8GzpMRWlJ",
    "outputId": "1fae4e20-4f96-4ce3-cf7b-522d5c2de045"
   },
   "outputs": [
    {
     "name": "stdout",
     "output_type": "stream",
     "text": [
      "Time running: 2.53 min sec\n"
     ]
    }
   ],
   "source": [
    "print(\"Time running: {} sec\".format(formatTime(nor_end-nor_begin)))"
   ]
  },
  {
   "cell_type": "code",
   "execution_count": 121,
   "metadata": {
    "id": "swaa8aNGUgW_"
   },
   "outputs": [],
   "source": []
  }
 ],
 "metadata": {
  "colab": {
   "collapsed_sections": [],
   "name": "Untitled7.ipynb",
   "provenance": []
  },
  "kernelspec": {
   "display_name": "Python 3",
   "language": "python",
   "name": "python3"
  },
  "language_info": {
   "codemirror_mode": {
    "name": "ipython",
    "version": 3
   },
   "file_extension": ".py",
   "mimetype": "text/x-python",
   "name": "python",
   "nbconvert_exporter": "python",
   "pygments_lexer": "ipython3",
   "version": "3.8.6"
  }
 },
 "nbformat": 4,
 "nbformat_minor": 1
}
