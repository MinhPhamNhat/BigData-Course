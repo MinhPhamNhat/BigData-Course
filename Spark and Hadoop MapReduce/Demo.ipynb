{
  "nbformat": 4,
  "nbformat_minor": 0,
  "metadata": {
    "colab": {
      "name": "Cau2.ipynb",
      "provenance": []
    },
    "kernelspec": {
      "name": "python3",
      "display_name": "Python 3"
    }
  },
  "cells": [
    {
      "cell_type": "code",
      "metadata": {
        "colab": {
          "base_uri": "https://localhost:8080/"
        },
        "id": "2VRfEGfH1pLN",
        "outputId": "e97920a0-8cb6-48fe-ab69-b5bdf7ad8e73"
      },
      "source": [
        "!pip install pyspark"
      ],
      "execution_count": 1,
      "outputs": [
        {
          "output_type": "stream",
          "text": [
            "Collecting pyspark\n",
            "\u001b[?25l  Downloading https://files.pythonhosted.org/packages/f0/26/198fc8c0b98580f617cb03cb298c6056587b8f0447e20fa40c5b634ced77/pyspark-3.0.1.tar.gz (204.2MB)\n",
            "\u001b[K     |████████████████████████████████| 204.2MB 68kB/s \n",
            "\u001b[?25hCollecting py4j==0.10.9\n",
            "\u001b[?25l  Downloading https://files.pythonhosted.org/packages/9e/b6/6a4fb90cd235dc8e265a6a2067f2a2c99f0d91787f06aca4bcf7c23f3f80/py4j-0.10.9-py2.py3-none-any.whl (198kB)\n",
            "\u001b[K     |████████████████████████████████| 204kB 51.2MB/s \n",
            "\u001b[?25hBuilding wheels for collected packages: pyspark\n",
            "  Building wheel for pyspark (setup.py) ... \u001b[?25l\u001b[?25hdone\n",
            "  Created wheel for pyspark: filename=pyspark-3.0.1-py2.py3-none-any.whl size=204612242 sha256=2188343bb5ff071d483f805343a3df62cb1f544a79bd9cf4337fb3df54904c02\n",
            "  Stored in directory: /root/.cache/pip/wheels/5e/bd/07/031766ca628adec8435bb40f0bd83bb676ce65ff4007f8e73f\n",
            "Successfully built pyspark\n",
            "Installing collected packages: py4j, pyspark\n",
            "Successfully installed py4j-0.10.9 pyspark-3.0.1\n"
          ],
          "name": "stdout"
        }
      ]
    },
    {
      "cell_type": "code",
      "metadata": {
        "id": "baL3-Yem19mV"
      },
      "source": [
        "import pyspark\r\n",
        "import sys\r\n",
        "from pyspark import SparkContext, SparkConf"
      ],
      "execution_count": 22,
      "outputs": []
    },
    {
      "cell_type": "markdown",
      "metadata": {
        "id": "XmC2aS2LWHBo"
      },
      "source": [
        "**Configurate Spark**"
      ]
    },
    {
      "cell_type": "code",
      "metadata": {
        "id": "uIWhMDDx_sLY"
      },
      "source": [
        "conf = SparkConf().setMaster(\"local\").setAppName(\"word counting\")\r\n",
        "sc = SparkContext.getOrCreate(conf=conf)"
      ],
      "execution_count": 23,
      "outputs": []
    },
    {
      "cell_type": "markdown",
      "metadata": {
        "id": "k-b-jj30WOuz"
      },
      "source": [
        "**Read text file and split text**"
      ]
    },
    {
      "cell_type": "code",
      "metadata": {
        "id": "OPrSR7FzHwTQ"
      },
      "source": [
        "text = sc.textFile(\"input.txt\").flatMap(lambda line: line.split(\" \"))"
      ],
      "execution_count": 43,
      "outputs": []
    },
    {
      "cell_type": "markdown",
      "metadata": {
        "id": "i_CwTJhjWWzU"
      },
      "source": [
        "**Map text **"
      ]
    },
    {
      "cell_type": "code",
      "metadata": {
        "id": "SAt-GZBeULJ4"
      },
      "source": [
        "words = text.map(lambda x: (x, 1))"
      ],
      "execution_count": 44,
      "outputs": []
    },
    {
      "cell_type": "markdown",
      "metadata": {
        "id": "VOEwQmxQWgYO"
      },
      "source": [
        "**Count words frequency**"
      ]
    },
    {
      "cell_type": "code",
      "metadata": {
        "id": "u7CXUYH1JTos"
      },
      "source": [
        "wordCount = words.reduceByKey(lambda x,y: x+y).sortBy(lambda x: x[1])"
      ],
      "execution_count": 45,
      "outputs": []
    },
    {
      "cell_type": "markdown",
      "metadata": {
        "id": "cKCzW-aHWw_O"
      },
      "source": [
        "**Pick the most *K* words frequency**"
      ]
    },
    {
      "cell_type": "code",
      "metadata": {
        "id": "u4UXK42cUWIF"
      },
      "source": [
        "k = 5\r\n",
        "## sort word\r\n",
        "k_word = wordCount.collect()[-1:-k-1:-1]"
      ],
      "execution_count": 46,
      "outputs": []
    },
    {
      "cell_type": "code",
      "metadata": {
        "id": "v74SWt3SJqjv",
        "colab": {
          "base_uri": "https://localhost:8080/"
        },
        "outputId": "87967b00-5d6e-460a-f4d2-08b6ad2ccf3a"
      },
      "source": [
        "k_word"
      ],
      "execution_count": 47,
      "outputs": [
        {
          "output_type": "execute_result",
          "data": {
            "text/plain": [
              "[('của', 5), ('', 5), ('chiến', 5), ('quyền', 5), ('được', 5)]"
            ]
          },
          "metadata": {
            "tags": []
          },
          "execution_count": 47
        }
      ]
    },
    {
      "cell_type": "code",
      "metadata": {
        "id": "Uyle2jxmX-o-"
      },
      "source": [
        ""
      ],
      "execution_count": null,
      "outputs": []
    }
  ]
}