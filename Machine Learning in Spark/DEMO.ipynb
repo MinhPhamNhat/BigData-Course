{
  "nbformat": 4,
  "nbformat_minor": 0,
  "metadata": {
    "colab": {
      "name": "51800903_51800886_51800904.ipynb",
      "provenance": [],
      "collapsed_sections": []
    },
    "kernelspec": {
      "name": "python3",
      "display_name": "Python 3"
    },
    "language_info": {
      "name": "python"
    }
  },
  "cells": [
    {
      "cell_type": "code",
      "metadata": {
        "colab": {
          "base_uri": "https://localhost:8080/"
        },
        "id": "bfeKeQ-BpiMv",
        "outputId": "1d14fc90-3c55-472b-c254-9ef88caf7a32"
      },
      "source": [
        "!pip install pyspark"
      ],
      "execution_count": 16,
      "outputs": [
        {
          "output_type": "stream",
          "text": [
            "Requirement already satisfied: pyspark in /usr/local/lib/python3.7/dist-packages (3.1.1)\n",
            "Requirement already satisfied: py4j==0.10.9 in /usr/local/lib/python3.7/dist-packages (from pyspark) (0.10.9)\n"
          ],
          "name": "stdout"
        }
      ]
    },
    {
      "cell_type": "code",
      "metadata": {
        "id": "3Vf6n8W9pwQh"
      },
      "source": [
        "from pyspark.sql import SparkSession,SQLContext\n",
        "# Config Spark Session\n",
        "spark = SparkSession.builder.appName(\"Banking Marketing\").getOrCreate();"
      ],
      "execution_count": 40,
      "outputs": []
    },
    {
      "cell_type": "code",
      "metadata": {
        "id": "A_vHfriNqDHD"
      },
      "source": [
        "df = spark.read.csv(\"drive/MyDrive/Colab Notebooks/bank.csv\", header=True, inferSchema=True)"
      ],
      "execution_count": 41,
      "outputs": []
    },
    {
      "cell_type": "code",
      "metadata": {
        "id": "iUzLPLSHl350",
        "colab": {
          "base_uri": "https://localhost:8080/"
        },
        "outputId": "53c51036-1dc9-4d8e-9e40-3a940b063bba"
      },
      "source": [
        "df.show()"
      ],
      "execution_count": 42,
      "outputs": [
        {
          "output_type": "stream",
          "text": [
            "+---+-----------+--------+---------+-------+-------+-------+----+-------+---+-----+--------+--------+-----+--------+--------+-------+\n",
            "|age|        job| marital|education|default|balance|housing|loan|contact|day|month|duration|campaign|pdays|previous|poutcome|deposit|\n",
            "+---+-----------+--------+---------+-------+-------+-------+----+-------+---+-----+--------+--------+-----+--------+--------+-------+\n",
            "| 59|     admin.| married|secondary|     no|   2343|    yes|  no|unknown|  5|  may|    1042|       1|   -1|       0| unknown|    yes|\n",
            "| 56|     admin.| married|secondary|     no|     45|     no|  no|unknown|  5|  may|    1467|       1|   -1|       0| unknown|    yes|\n",
            "| 41| technician| married|secondary|     no|   1270|    yes|  no|unknown|  5|  may|    1389|       1|   -1|       0| unknown|    yes|\n",
            "| 55|   services| married|secondary|     no|   2476|    yes|  no|unknown|  5|  may|     579|       1|   -1|       0| unknown|    yes|\n",
            "| 54|     admin.| married| tertiary|     no|    184|     no|  no|unknown|  5|  may|     673|       2|   -1|       0| unknown|    yes|\n",
            "| 42| management|  single| tertiary|     no|      0|    yes| yes|unknown|  5|  may|     562|       2|   -1|       0| unknown|    yes|\n",
            "| 56| management| married| tertiary|     no|    830|    yes| yes|unknown|  6|  may|    1201|       1|   -1|       0| unknown|    yes|\n",
            "| 60|    retired|divorced|secondary|     no|    545|    yes|  no|unknown|  6|  may|    1030|       1|   -1|       0| unknown|    yes|\n",
            "| 37| technician| married|secondary|     no|      1|    yes|  no|unknown|  6|  may|     608|       1|   -1|       0| unknown|    yes|\n",
            "| 28|   services|  single|secondary|     no|   5090|    yes|  no|unknown|  6|  may|    1297|       3|   -1|       0| unknown|    yes|\n",
            "| 38|     admin.|  single|secondary|     no|    100|    yes|  no|unknown|  7|  may|     786|       1|   -1|       0| unknown|    yes|\n",
            "| 30|blue-collar| married|secondary|     no|    309|    yes|  no|unknown|  7|  may|    1574|       2|   -1|       0| unknown|    yes|\n",
            "| 29| management| married| tertiary|     no|    199|    yes| yes|unknown|  7|  may|    1689|       4|   -1|       0| unknown|    yes|\n",
            "| 46|blue-collar|  single| tertiary|     no|    460|    yes|  no|unknown|  7|  may|    1102|       2|   -1|       0| unknown|    yes|\n",
            "| 31| technician|  single| tertiary|     no|    703|    yes|  no|unknown|  8|  may|     943|       2|   -1|       0| unknown|    yes|\n",
            "| 35| management|divorced| tertiary|     no|   3837|    yes|  no|unknown|  8|  may|    1084|       1|   -1|       0| unknown|    yes|\n",
            "| 32|blue-collar|  single|  primary|     no|    611|    yes|  no|unknown|  8|  may|     541|       3|   -1|       0| unknown|    yes|\n",
            "| 49|   services| married|secondary|     no|     -8|    yes|  no|unknown|  8|  may|    1119|       1|   -1|       0| unknown|    yes|\n",
            "| 41|     admin.| married|secondary|     no|     55|    yes|  no|unknown|  8|  may|    1120|       2|   -1|       0| unknown|    yes|\n",
            "| 49|     admin.|divorced|secondary|     no|    168|    yes| yes|unknown|  8|  may|     513|       1|   -1|       0| unknown|    yes|\n",
            "+---+-----------+--------+---------+-------+-------+-------+----+-------+---+-----+--------+--------+-----+--------+--------+-------+\n",
            "only showing top 20 rows\n",
            "\n"
          ],
          "name": "stdout"
        }
      ]
    },
    {
      "cell_type": "code",
      "metadata": {
        "colab": {
          "base_uri": "https://localhost:8080/"
        },
        "id": "NhFslcHAqq8C",
        "outputId": "e9d56241-c9c2-4756-8a35-e43fc32c74ef"
      },
      "source": [
        "df.printSchema()"
      ],
      "execution_count": 43,
      "outputs": [
        {
          "output_type": "stream",
          "text": [
            "root\n",
            " |-- age: integer (nullable = true)\n",
            " |-- job: string (nullable = true)\n",
            " |-- marital: string (nullable = true)\n",
            " |-- education: string (nullable = true)\n",
            " |-- default: string (nullable = true)\n",
            " |-- balance: integer (nullable = true)\n",
            " |-- housing: string (nullable = true)\n",
            " |-- loan: string (nullable = true)\n",
            " |-- contact: string (nullable = true)\n",
            " |-- day: integer (nullable = true)\n",
            " |-- month: string (nullable = true)\n",
            " |-- duration: integer (nullable = true)\n",
            " |-- campaign: integer (nullable = true)\n",
            " |-- pdays: integer (nullable = true)\n",
            " |-- previous: integer (nullable = true)\n",
            " |-- poutcome: string (nullable = true)\n",
            " |-- deposit: string (nullable = true)\n",
            "\n"
          ],
          "name": "stdout"
        }
      ]
    },
    {
      "cell_type": "code",
      "metadata": {
        "id": "PRVB3Z44fPuF"
      },
      "source": [
        "string_features = ['job', 'marital', 'education', 'default', 'housing', 'loan', 'contact','month', 'poutcome', 'deposit']"
      ],
      "execution_count": 44,
      "outputs": []
    },
    {
      "cell_type": "code",
      "metadata": {
        "id": "3NiMqm3HskSY"
      },
      "source": [
        "# Convert String col to Numeric\n",
        "from pyspark.ml.feature import StringIndexer\n",
        "for i in string_features:\n",
        "  indexer = StringIndexer()\n",
        "  indexer.setInputCol(i).setOutputCol(i+\"_indexer\")\n",
        "  df = indexer.fit(df).transform(df)"
      ],
      "execution_count": 45,
      "outputs": []
    },
    {
      "cell_type": "code",
      "metadata": {
        "colab": {
          "base_uri": "https://localhost:8080/"
        },
        "id": "U8iqK9_XfLUo",
        "outputId": "28d6da0c-5249-45b3-f498-f4b947f885e6"
      },
      "source": [
        "df.show()"
      ],
      "execution_count": 46,
      "outputs": [
        {
          "output_type": "stream",
          "text": [
            "+---+-----------+--------+---------+-------+-------+-------+----+-------+---+-----+--------+--------+-----+--------+--------+-------+-----------+---------------+-----------------+---------------+---------------+------------+---------------+-------------+----------------+---------------+\n",
            "|age|        job| marital|education|default|balance|housing|loan|contact|day|month|duration|campaign|pdays|previous|poutcome|deposit|job_indexer|marital_indexer|education_indexer|default_indexer|housing_indexer|loan_indexer|contact_indexer|month_indexer|poutcome_indexer|deposit_indexer|\n",
            "+---+-----------+--------+---------+-------+-------+-------+----+-------+---+-----+--------+--------+-----+--------+--------+-------+-----------+---------------+-----------------+---------------+---------------+------------+---------------+-------------+----------------+---------------+\n",
            "| 59|     admin.| married|secondary|     no|   2343|    yes|  no|unknown|  5|  may|    1042|       1|   -1|       0| unknown|    yes|        3.0|            0.0|              0.0|            0.0|            1.0|         0.0|            1.0|          0.0|             0.0|            1.0|\n",
            "| 56|     admin.| married|secondary|     no|     45|     no|  no|unknown|  5|  may|    1467|       1|   -1|       0| unknown|    yes|        3.0|            0.0|              0.0|            0.0|            0.0|         0.0|            1.0|          0.0|             0.0|            1.0|\n",
            "| 41| technician| married|secondary|     no|   1270|    yes|  no|unknown|  5|  may|    1389|       1|   -1|       0| unknown|    yes|        2.0|            0.0|              0.0|            0.0|            1.0|         0.0|            1.0|          0.0|             0.0|            1.0|\n",
            "| 55|   services| married|secondary|     no|   2476|    yes|  no|unknown|  5|  may|     579|       1|   -1|       0| unknown|    yes|        4.0|            0.0|              0.0|            0.0|            1.0|         0.0|            1.0|          0.0|             0.0|            1.0|\n",
            "| 54|     admin.| married| tertiary|     no|    184|     no|  no|unknown|  5|  may|     673|       2|   -1|       0| unknown|    yes|        3.0|            0.0|              1.0|            0.0|            0.0|         0.0|            1.0|          0.0|             0.0|            1.0|\n",
            "| 42| management|  single| tertiary|     no|      0|    yes| yes|unknown|  5|  may|     562|       2|   -1|       0| unknown|    yes|        0.0|            1.0|              1.0|            0.0|            1.0|         1.0|            1.0|          0.0|             0.0|            1.0|\n",
            "| 56| management| married| tertiary|     no|    830|    yes| yes|unknown|  6|  may|    1201|       1|   -1|       0| unknown|    yes|        0.0|            0.0|              1.0|            0.0|            1.0|         1.0|            1.0|          0.0|             0.0|            1.0|\n",
            "| 60|    retired|divorced|secondary|     no|    545|    yes|  no|unknown|  6|  may|    1030|       1|   -1|       0| unknown|    yes|        5.0|            2.0|              0.0|            0.0|            1.0|         0.0|            1.0|          0.0|             0.0|            1.0|\n",
            "| 37| technician| married|secondary|     no|      1|    yes|  no|unknown|  6|  may|     608|       1|   -1|       0| unknown|    yes|        2.0|            0.0|              0.0|            0.0|            1.0|         0.0|            1.0|          0.0|             0.0|            1.0|\n",
            "| 28|   services|  single|secondary|     no|   5090|    yes|  no|unknown|  6|  may|    1297|       3|   -1|       0| unknown|    yes|        4.0|            1.0|              0.0|            0.0|            1.0|         0.0|            1.0|          0.0|             0.0|            1.0|\n",
            "| 38|     admin.|  single|secondary|     no|    100|    yes|  no|unknown|  7|  may|     786|       1|   -1|       0| unknown|    yes|        3.0|            1.0|              0.0|            0.0|            1.0|         0.0|            1.0|          0.0|             0.0|            1.0|\n",
            "| 30|blue-collar| married|secondary|     no|    309|    yes|  no|unknown|  7|  may|    1574|       2|   -1|       0| unknown|    yes|        1.0|            0.0|              0.0|            0.0|            1.0|         0.0|            1.0|          0.0|             0.0|            1.0|\n",
            "| 29| management| married| tertiary|     no|    199|    yes| yes|unknown|  7|  may|    1689|       4|   -1|       0| unknown|    yes|        0.0|            0.0|              1.0|            0.0|            1.0|         1.0|            1.0|          0.0|             0.0|            1.0|\n",
            "| 46|blue-collar|  single| tertiary|     no|    460|    yes|  no|unknown|  7|  may|    1102|       2|   -1|       0| unknown|    yes|        1.0|            1.0|              1.0|            0.0|            1.0|         0.0|            1.0|          0.0|             0.0|            1.0|\n",
            "| 31| technician|  single| tertiary|     no|    703|    yes|  no|unknown|  8|  may|     943|       2|   -1|       0| unknown|    yes|        2.0|            1.0|              1.0|            0.0|            1.0|         0.0|            1.0|          0.0|             0.0|            1.0|\n",
            "| 35| management|divorced| tertiary|     no|   3837|    yes|  no|unknown|  8|  may|    1084|       1|   -1|       0| unknown|    yes|        0.0|            2.0|              1.0|            0.0|            1.0|         0.0|            1.0|          0.0|             0.0|            1.0|\n",
            "| 32|blue-collar|  single|  primary|     no|    611|    yes|  no|unknown|  8|  may|     541|       3|   -1|       0| unknown|    yes|        1.0|            1.0|              2.0|            0.0|            1.0|         0.0|            1.0|          0.0|             0.0|            1.0|\n",
            "| 49|   services| married|secondary|     no|     -8|    yes|  no|unknown|  8|  may|    1119|       1|   -1|       0| unknown|    yes|        4.0|            0.0|              0.0|            0.0|            1.0|         0.0|            1.0|          0.0|             0.0|            1.0|\n",
            "| 41|     admin.| married|secondary|     no|     55|    yes|  no|unknown|  8|  may|    1120|       2|   -1|       0| unknown|    yes|        3.0|            0.0|              0.0|            0.0|            1.0|         0.0|            1.0|          0.0|             0.0|            1.0|\n",
            "| 49|     admin.|divorced|secondary|     no|    168|    yes| yes|unknown|  8|  may|     513|       1|   -1|       0| unknown|    yes|        3.0|            2.0|              0.0|            0.0|            1.0|         1.0|            1.0|          0.0|             0.0|            1.0|\n",
            "+---+-----------+--------+---------+-------+-------+-------+----+-------+---+-----+--------+--------+-----+--------+--------+-------+-----------+---------------+-----------------+---------------+---------------+------------+---------------+-------------+----------------+---------------+\n",
            "only showing top 20 rows\n",
            "\n"
          ],
          "name": "stdout"
        }
      ]
    },
    {
      "cell_type": "code",
      "metadata": {
        "id": "hFiOwQWug-LB"
      },
      "source": [
        "df = df.drop(*string_features[:-1])"
      ],
      "execution_count": 47,
      "outputs": []
    },
    {
      "cell_type": "code",
      "metadata": {
        "colab": {
          "base_uri": "https://localhost:8080/"
        },
        "id": "-aCf7RQPhuQc",
        "outputId": "51296139-5fde-4a57-8751-15c2128d922d"
      },
      "source": [
        "df.printSchema()"
      ],
      "execution_count": 48,
      "outputs": [
        {
          "output_type": "stream",
          "text": [
            "root\n",
            " |-- age: integer (nullable = true)\n",
            " |-- balance: integer (nullable = true)\n",
            " |-- day: integer (nullable = true)\n",
            " |-- duration: integer (nullable = true)\n",
            " |-- campaign: integer (nullable = true)\n",
            " |-- pdays: integer (nullable = true)\n",
            " |-- previous: integer (nullable = true)\n",
            " |-- deposit: string (nullable = true)\n",
            " |-- job_indexer: double (nullable = false)\n",
            " |-- marital_indexer: double (nullable = false)\n",
            " |-- education_indexer: double (nullable = false)\n",
            " |-- default_indexer: double (nullable = false)\n",
            " |-- housing_indexer: double (nullable = false)\n",
            " |-- loan_indexer: double (nullable = false)\n",
            " |-- contact_indexer: double (nullable = false)\n",
            " |-- month_indexer: double (nullable = false)\n",
            " |-- poutcome_indexer: double (nullable = false)\n",
            " |-- deposit_indexer: double (nullable = false)\n",
            "\n"
          ],
          "name": "stdout"
        }
      ]
    },
    {
      "cell_type": "markdown",
      "metadata": {
        "id": "J4ZWLcRshU2d"
      },
      "source": [
        ""
      ]
    },
    {
      "cell_type": "code",
      "metadata": {
        "colab": {
          "base_uri": "https://localhost:8080/"
        },
        "id": "vjjgzpHchI6Q",
        "outputId": "1d7acae9-b49c-47f5-e2b8-abd073b8ff18"
      },
      "source": [
        "df.show()"
      ],
      "execution_count": 49,
      "outputs": [
        {
          "output_type": "stream",
          "text": [
            "+---+-------+---+--------+--------+-----+--------+-------+-----------+---------------+-----------------+---------------+---------------+------------+---------------+-------------+----------------+---------------+\n",
            "|age|balance|day|duration|campaign|pdays|previous|deposit|job_indexer|marital_indexer|education_indexer|default_indexer|housing_indexer|loan_indexer|contact_indexer|month_indexer|poutcome_indexer|deposit_indexer|\n",
            "+---+-------+---+--------+--------+-----+--------+-------+-----------+---------------+-----------------+---------------+---------------+------------+---------------+-------------+----------------+---------------+\n",
            "| 59|   2343|  5|    1042|       1|   -1|       0|    yes|        3.0|            0.0|              0.0|            0.0|            1.0|         0.0|            1.0|          0.0|             0.0|            1.0|\n",
            "| 56|     45|  5|    1467|       1|   -1|       0|    yes|        3.0|            0.0|              0.0|            0.0|            0.0|         0.0|            1.0|          0.0|             0.0|            1.0|\n",
            "| 41|   1270|  5|    1389|       1|   -1|       0|    yes|        2.0|            0.0|              0.0|            0.0|            1.0|         0.0|            1.0|          0.0|             0.0|            1.0|\n",
            "| 55|   2476|  5|     579|       1|   -1|       0|    yes|        4.0|            0.0|              0.0|            0.0|            1.0|         0.0|            1.0|          0.0|             0.0|            1.0|\n",
            "| 54|    184|  5|     673|       2|   -1|       0|    yes|        3.0|            0.0|              1.0|            0.0|            0.0|         0.0|            1.0|          0.0|             0.0|            1.0|\n",
            "| 42|      0|  5|     562|       2|   -1|       0|    yes|        0.0|            1.0|              1.0|            0.0|            1.0|         1.0|            1.0|          0.0|             0.0|            1.0|\n",
            "| 56|    830|  6|    1201|       1|   -1|       0|    yes|        0.0|            0.0|              1.0|            0.0|            1.0|         1.0|            1.0|          0.0|             0.0|            1.0|\n",
            "| 60|    545|  6|    1030|       1|   -1|       0|    yes|        5.0|            2.0|              0.0|            0.0|            1.0|         0.0|            1.0|          0.0|             0.0|            1.0|\n",
            "| 37|      1|  6|     608|       1|   -1|       0|    yes|        2.0|            0.0|              0.0|            0.0|            1.0|         0.0|            1.0|          0.0|             0.0|            1.0|\n",
            "| 28|   5090|  6|    1297|       3|   -1|       0|    yes|        4.0|            1.0|              0.0|            0.0|            1.0|         0.0|            1.0|          0.0|             0.0|            1.0|\n",
            "| 38|    100|  7|     786|       1|   -1|       0|    yes|        3.0|            1.0|              0.0|            0.0|            1.0|         0.0|            1.0|          0.0|             0.0|            1.0|\n",
            "| 30|    309|  7|    1574|       2|   -1|       0|    yes|        1.0|            0.0|              0.0|            0.0|            1.0|         0.0|            1.0|          0.0|             0.0|            1.0|\n",
            "| 29|    199|  7|    1689|       4|   -1|       0|    yes|        0.0|            0.0|              1.0|            0.0|            1.0|         1.0|            1.0|          0.0|             0.0|            1.0|\n",
            "| 46|    460|  7|    1102|       2|   -1|       0|    yes|        1.0|            1.0|              1.0|            0.0|            1.0|         0.0|            1.0|          0.0|             0.0|            1.0|\n",
            "| 31|    703|  8|     943|       2|   -1|       0|    yes|        2.0|            1.0|              1.0|            0.0|            1.0|         0.0|            1.0|          0.0|             0.0|            1.0|\n",
            "| 35|   3837|  8|    1084|       1|   -1|       0|    yes|        0.0|            2.0|              1.0|            0.0|            1.0|         0.0|            1.0|          0.0|             0.0|            1.0|\n",
            "| 32|    611|  8|     541|       3|   -1|       0|    yes|        1.0|            1.0|              2.0|            0.0|            1.0|         0.0|            1.0|          0.0|             0.0|            1.0|\n",
            "| 49|     -8|  8|    1119|       1|   -1|       0|    yes|        4.0|            0.0|              0.0|            0.0|            1.0|         0.0|            1.0|          0.0|             0.0|            1.0|\n",
            "| 41|     55|  8|    1120|       2|   -1|       0|    yes|        3.0|            0.0|              0.0|            0.0|            1.0|         0.0|            1.0|          0.0|             0.0|            1.0|\n",
            "| 49|    168|  8|     513|       1|   -1|       0|    yes|        3.0|            2.0|              0.0|            0.0|            1.0|         1.0|            1.0|          0.0|             0.0|            1.0|\n",
            "+---+-------+---+--------+--------+-----+--------+-------+-----------+---------------+-----------------+---------------+---------------+------------+---------------+-------------+----------------+---------------+\n",
            "only showing top 20 rows\n",
            "\n"
          ],
          "name": "stdout"
        }
      ]
    },
    {
      "cell_type": "code",
      "metadata": {
        "id": "vOAjGgj4hdCI"
      },
      "source": [
        "feature_names = df.columns[:-1]"
      ],
      "execution_count": 50,
      "outputs": []
    },
    {
      "cell_type": "code",
      "metadata": {
        "id": "KSZcoAEedbd3"
      },
      "source": [
        "feature_names.remove(\"deposit\")"
      ],
      "execution_count": 52,
      "outputs": []
    },
    {
      "cell_type": "code",
      "metadata": {
        "colab": {
          "base_uri": "https://localhost:8080/"
        },
        "id": "C0ZpfpNcZBqc",
        "outputId": "987706ca-d679-4d9d-b803-d5abeb27a67f"
      },
      "source": [
        "feature_names"
      ],
      "execution_count": 53,
      "outputs": [
        {
          "output_type": "execute_result",
          "data": {
            "text/plain": [
              "['age',\n",
              " 'balance',\n",
              " 'day',\n",
              " 'duration',\n",
              " 'campaign',\n",
              " 'pdays',\n",
              " 'previous',\n",
              " 'job_indexer',\n",
              " 'marital_indexer',\n",
              " 'education_indexer',\n",
              " 'default_indexer',\n",
              " 'housing_indexer',\n",
              " 'loan_indexer',\n",
              " 'contact_indexer',\n",
              " 'month_indexer',\n",
              " 'poutcome_indexer']"
            ]
          },
          "metadata": {
            "tags": []
          },
          "execution_count": 53
        }
      ]
    },
    {
      "cell_type": "code",
      "metadata": {
        "id": "LAcJ0A7Rw3j9"
      },
      "source": [
        "from pyspark.ml.feature import VectorAssembler\n",
        "\n",
        "# Vector feature\n",
        "assembler = VectorAssembler(inputCols=feature_names, outputCol=\"features\")\n",
        "transformed_data = assembler.transform(df)"
      ],
      "execution_count": 54,
      "outputs": []
    },
    {
      "cell_type": "code",
      "metadata": {
        "colab": {
          "base_uri": "https://localhost:8080/"
        },
        "id": "9Q_m1agsw8kG",
        "outputId": "c20deff6-ac47-475a-b420-a61e227230bf"
      },
      "source": [
        "transformed_data.select(\"features\").show()"
      ],
      "execution_count": 55,
      "outputs": [
        {
          "output_type": "stream",
          "text": [
            "+--------------------+\n",
            "|            features|\n",
            "+--------------------+\n",
            "|(16,[0,1,2,3,4,5,...|\n",
            "|(16,[0,1,2,3,4,5,...|\n",
            "|(16,[0,1,2,3,4,5,...|\n",
            "|(16,[0,1,2,3,4,5,...|\n",
            "|(16,[0,1,2,3,4,5,...|\n",
            "|[42.0,0.0,5.0,562...|\n",
            "|[56.0,830.0,6.0,1...|\n",
            "|[60.0,545.0,6.0,1...|\n",
            "|(16,[0,1,2,3,4,5,...|\n",
            "|[28.0,5090.0,6.0,...|\n",
            "|[38.0,100.0,7.0,7...|\n",
            "|(16,[0,1,2,3,4,5,...|\n",
            "|[29.0,199.0,7.0,1...|\n",
            "|[46.0,460.0,7.0,1...|\n",
            "|[31.0,703.0,8.0,9...|\n",
            "|[35.0,3837.0,8.0,...|\n",
            "|[32.0,611.0,8.0,5...|\n",
            "|(16,[0,1,2,3,4,5,...|\n",
            "|(16,[0,1,2,3,4,5,...|\n",
            "|[49.0,168.0,8.0,5...|\n",
            "+--------------------+\n",
            "only showing top 20 rows\n",
            "\n"
          ],
          "name": "stdout"
        }
      ]
    },
    {
      "cell_type": "code",
      "metadata": {
        "id": "7L4iQspQiC4v"
      },
      "source": [
        "# Tách train test\n",
        "(training_data, test_data) = transformed_data.randomSplit([0.8,0.2])"
      ],
      "execution_count": 56,
      "outputs": []
    },
    {
      "cell_type": "code",
      "metadata": {
        "id": "W2glBJFzxAiq"
      },
      "source": [
        "from pyspark.ml.classification import LogisticRegression\n",
        "model = LogisticRegression(featuresCol = 'features',labelCol='deposit_indexer', maxIter=30)"
      ],
      "execution_count": 57,
      "outputs": []
    },
    {
      "cell_type": "code",
      "metadata": {
        "id": "f1-F-HO1xUO_"
      },
      "source": [
        "# Fit model\n",
        "fit_model = model.fit(training_data)"
      ],
      "execution_count": 58,
      "outputs": []
    },
    {
      "cell_type": "code",
      "metadata": {
        "id": "Eej_qGSRiggh"
      },
      "source": [
        "# Dự đoán data\n",
        "y_pred = fit_model.transform(test_data)"
      ],
      "execution_count": 59,
      "outputs": []
    },
    {
      "cell_type": "code",
      "metadata": {
        "colab": {
          "base_uri": "https://localhost:8080/"
        },
        "id": "-2rMwKIwimHH",
        "outputId": "bc3686ba-a8c5-4163-b4b6-c29494b6580f"
      },
      "source": [
        "from pyspark.ml.evaluation import MulticlassClassificationEvaluator\n",
        "\n",
        "# Tính accuracy\n",
        "multi_evaluator = MulticlassClassificationEvaluator(labelCol = 'deposit_indexer', metricName = 'accuracy')\n",
        "print('Logistic Regression Accuracy:', multi_evaluator.evaluate(y_pred))\n"
      ],
      "execution_count": 60,
      "outputs": [
        {
          "output_type": "stream",
          "text": [
            "Logistic Regression Accuracy: 0.8035055350553506\n"
          ],
          "name": "stdout"
        }
      ]
    },
    {
      "cell_type": "code",
      "metadata": {
        "id": "LSxpkejijFb3",
        "colab": {
          "base_uri": "https://localhost:8080/"
        },
        "outputId": "e2998aea-7d99-4876-e96a-dcb294789cf9"
      },
      "source": [
        "y_pred.select(\"age\",\"balance\",\"deposit\",\"rawPrediction\", \"probability\", \"prediction\").show(10)"
      ],
      "execution_count": 62,
      "outputs": [
        {
          "output_type": "stream",
          "text": [
            "+---+-------+-------+--------------------+--------------------+----------+\n",
            "|age|balance|deposit|       rawPrediction|         probability|prediction|\n",
            "+---+-------+-------+--------------------+--------------------+----------+\n",
            "| 18|      5|     no|[1.24031836691664...|[0.77561942577722...|       0.0|\n",
            "| 18|    108|    yes|[-0.8424151044749...|[0.30102637901402...|       1.0|\n",
            "| 18|    108|    yes|[0.93865241633341...|[0.71882737144269...|       0.0|\n",
            "| 18|    348|    yes|[-0.1202583591761...|[0.46997159090632...|       1.0|\n",
            "| 19|     55|     no|[-0.8383004794600...|[0.30189284335200...|       1.0|\n",
            "| 19|     60|     no|[0.53454555853161...|[0.63054266587903...|       0.0|\n",
            "| 19|    103|    yes|[1.12953722001224...|[0.75575348457604...|       0.0|\n",
            "| 19|    329|    yes|[-0.5368318763241...|[0.36892487585105...|       1.0|\n",
            "| 19|    372|    yes|[0.15061621411956...|[0.53758303202370...|       0.0|\n",
            "| 19|    394|    yes|[-0.6405631974937...|[0.34511923892910...|       1.0|\n",
            "+---+-------+-------+--------------------+--------------------+----------+\n",
            "only showing top 10 rows\n",
            "\n"
          ],
          "name": "stdout"
        }
      ]
    },
    {
      "cell_type": "code",
      "metadata": {
        "id": "OKFs_bO4YbfD"
      },
      "source": [
        ""
      ],
      "execution_count": null,
      "outputs": []
    }
  ]
}
